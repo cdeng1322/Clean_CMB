{
 "cells": [
  {
   "cell_type": "markdown",
   "id": "ef37cc1e",
   "metadata": {},
   "source": [
    "## TT Angular Power Spectrum"
   ]
  },
  {
   "cell_type": "code",
   "execution_count": 8,
   "id": "aaa6e300",
   "metadata": {},
   "outputs": [],
   "source": [
    "import numpy as np\n",
    "import healpy as hp\n",
    "import matplotlib.pyplot as plt\n",
    "import s2fft\n",
    "\n",
    "def mw_alm_2_hp_alm(MW_alm, lmax):\n",
    "    \"\"\"\n",
    "    Converts MW alm coefficients to HEALPix alm coefficients.\n",
    "\n",
    "    Args:\n",
    "        MW_alm (ndarray): 2D array of shape (Lmax, 2*Lmax-1) representing MW alm coefficients.\n",
    "        lmax (int): Maximum multipole moment.\n",
    "\n",
    "    Returns:\n",
    "        ndarray: 1D array of HEALPix alm coefficients.\n",
    "    \"\"\"\n",
    "    hp_alm = np.zeros(hp.Alm.getsize(lmax), dtype=np.complex128)\n",
    "    for l in range(lmax + 1):\n",
    "        for m in range(-l, l + 1):\n",
    "            index = hp.Alm.getidx(lmax, l, abs(m))\n",
    "            if m < 0:\n",
    "                hp_alm[index] = (-1)**m * np.conj(MW_alm[l, lmax + m])\n",
    "            else:\n",
    "                hp_alm[index] = MW_alm[l, lmax + m]\n",
    "    return hp_alm"
   ]
  },
  {
   "cell_type": "markdown",
   "id": "f58128ff",
   "metadata": {},
   "source": [
    "## Step 1\n",
    "larger pixel number (proportional to $N_{side}^2$) would make the map look smoother under the same $l_{max}$."
   ]
  },
  {
   "cell_type": "code",
   "execution_count": 9,
   "id": "b385dec2",
   "metadata": {},
   "outputs": [
    {
     "name": "stderr",
     "output_type": "stream",
     "text": [
      "setting the output map dtype to [dtype('float64')]\n"
     ]
    },
    {
     "name": "stdout",
     "output_type": "stream",
     "text": [
      "MW alm shape: (32, 63)\n"
     ]
    }
   ],
   "source": [
    "# This assumes your pipeline saved the synthesized MW map here:\n",
    "mw_map_path = \"ILC/synthesized_ILC_MW_maps/ILC_MW_Map_R0000_MP.npy\"\n",
    "MW_Pix = np.load(mw_map_path) \n",
    "\n",
    "# Determine Lmax from MW map shape\n",
    "lmax = MW_Pix.shape[0] - 1 # 31\n",
    "\n",
    "# Convert MW pixel map → MW alm → Healpix alm → Healpix map\n",
    "MW_alm = s2fft.forward(MW_Pix, L=lmax+1)\n",
    "print('MW alm shape:', MW_alm.shape)\n",
    "hp_alm = mw_alm_2_hp_alm(MW_alm, lmax)\n",
    "hp_map = hp.alm2map(hp_alm, nside=2048, lmax=lmax, verbose=False) #oversamping, map has more pixels than strictly needed for that bandlimit\n",
    "\n",
    "# Save HEALPix map to FITS\n",
    "hp.write_map(\"ILC/CMB_estimated_R0000.fits\", hp_map, overwrite=True)"
   ]
  },
  {
   "cell_type": "markdown",
   "id": "39df1833",
   "metadata": {},
   "source": [
    "## Step 2: produce pseudo $C_l$ (no need to apply $f_{sky}$ since no mask), with monopole/dipole removed\n"
   ]
  },
  {
   "cell_type": "code",
   "execution_count": 10,
   "id": "2edd3a64",
   "metadata": {},
   "outputs": [
    {
     "data": {
      "text/plain": [
       "'\\n# URLs for Planck point-source masks\\nurls = {\\n    \"LFI\": \"http://pla.esac.esa.int/pla/aio/product-action?MAP.MAP_ID=LFI_Mask_PointSrc_2048_R2.00.fits\",\\n    \"HFI\": \"http://pla.esac.esa.int/pla/aio/product-action?MAP.MAP_ID=HFI_Mask_PointSrc_2048_R2.00.fits\"\\n}\\n\\n\\n# Download masks if not already present\\nfor name, url in urls.items():\\n    filename = f\"{name}_Mask_PointSrc_2048.fits\"\\n    try:\\n        with open(filename, \"wb\") as f:\\n            f.write(requests.get(url).content)\\n        print(f\"Downloaded {filename}\")\\n    except Exception as e:\\n        print(f\"Error downloading {name} mask: {e}\")\\n\\n\\n# Load your estimated CMB map (HEALPix)\\nmap_T = hp.read_map(\"ILC/CMB_estimated_R0000.fits\")  # Your Step 1 output\\n\\n# Load LFI and HFI masks\\nmask_LFI = hp.read_map(\"Mask/LFI_Mask_PointSrc_2048.fits\")\\nmask_HFI = hp.read_map(\"Mask/HFI_Mask_PointSrc_2048.fits\")\\n\\nprint(\"map_T:\", map_T.size, \"nside=\", hp.get_nside(map_T))\\nprint(\"mask_LFI:\", mask_LFI.size, \"nside=\", hp.get_nside(mask_LFI))\\nprint(\"mask_HFI:\", mask_HFI.size, \"nside=\", hp.get_nside(mask_HFI))\\n\\n# Combine masks: intersection (product) keeps only pixels unmasked in both\\nmask_combined = mask_LFI * mask_HFI\\n\\n# Apply mask in pixel space\\nmasked_map = mask_combined * map_T\\n\\n# Save the masked map\\nhp.write_map(\"masked_map.fits\", masked_map, overwrite=True)\\n\\n\\n# visualize_MW_Pix_map(masked_map, title=\"Masked CMB Map\", coord=[\"G\"], unit=\"K\", is_MW_alm=False)\\n# Optional: visualise\\nhp.mollview(masked_map, title=\"CMB Map with Planck Point-Source Mask\")\\n\\n\\n\\n# Step 3 with mask applied\\n\\ndef pseudo_cl_from_masked_map(T_map, mask, lmax=None, fsky_correct=True, fsky=0.978, alm=False):\\n    \"\"\"\\n    Step 3 — pseudo-spectrum from a masked map, following SILC (Rogers+16).\\n\\n    Inputs\\n    -------\\n    T_map : 1D array (len = 12*Nside^2), HEALPix CMB temperature map [K or µK]\\n    mask  : 1D array, same shape; 1 inside, 0 outside (can be float weights)\\n    lmax  : int, maximum multipole (default = 3*Nside-1)\\n    fsky_correct : bool, divide pseudo-Cl by f_sky (small-mask full-sky approximation)\\n    return_alm   : bool, also return a_lm of the masked map\\n\\n    Returns\\n    -------\\n    ell        : array of multipoles (0..lmax)\\n    Cl_tilde   : pseudo-spectrum of the masked map, \\tilde C_ell\\n    Cl_fullest : Cl_tilde / f_sky  (if fsky_correct), else equals Cl_tilde\\n    alm        : (optional) a_lm of the masked map\\n    \"\"\"\\n    # Ensure same NSIDE and float64 for stability\\n    T_map = np.asarray(T_map, dtype=np.float64)\\n    mask  = np.asarray(mask,  dtype=np.float64)\\n    nside = hp.get_nside(T_map)\\n    if hp.get_nside(mask) != nside:\\n        raise ValueError(\"T_map and mask must have same NSIDE\")\\n    if lmax is None:\\n        lmax = 3*nside - 1\\n\\n    # Masked map M*T\\n    MT = mask * T_map\\n\\n    ell = np.arange(lmax + 1)\\n\\n    Cl_tilde = hp.anafast(MT, lmax=lmax)\\n\\n    # Small-mask full-sky approximation used in the paper: divide by f_sky\\n    if fsky_correct:\\n        Cl_fullest = Cl_tilde / fsky if fsky > 0 else Cl_tilde\\n    else:\\n        Cl_fullest = Cl_tilde\\n\\n    return ell, Cl_tilde, Cl_fullest, alm\\n\\n\\nell, Cl_tilde, Cl_fullest, alm = pseudo_cl_from_masked_map(map_T, mask_combined, lmax=lmax, alm=False)\\n'"
      ]
     },
     "execution_count": 10,
     "metadata": {},
     "output_type": "execute_result"
    }
   ],
   "source": [
    "# No need to apply a mask here, as the MW map is already output of ILC for a clean CMB without foregrounds.\n",
    "\n",
    "'''\n",
    "# URLs for Planck point-source masks\n",
    "urls = {\n",
    "    \"LFI\": \"http://pla.esac.esa.int/pla/aio/product-action?MAP.MAP_ID=LFI_Mask_PointSrc_2048_R2.00.fits\",\n",
    "    \"HFI\": \"http://pla.esac.esa.int/pla/aio/product-action?MAP.MAP_ID=HFI_Mask_PointSrc_2048_R2.00.fits\"\n",
    "}\n",
    "\n",
    "\n",
    "# Download masks if not already present\n",
    "for name, url in urls.items():\n",
    "    filename = f\"{name}_Mask_PointSrc_2048.fits\"\n",
    "    try:\n",
    "        with open(filename, \"wb\") as f:\n",
    "            f.write(requests.get(url).content)\n",
    "        print(f\"Downloaded {filename}\")\n",
    "    except Exception as e:\n",
    "        print(f\"Error downloading {name} mask: {e}\")\n",
    "\n",
    "        \n",
    "# Load your estimated CMB map (HEALPix)\n",
    "map_T = hp.read_map(\"ILC/CMB_estimated_R0000.fits\")  # Your Step 1 output\n",
    "\n",
    "# Load LFI and HFI masks\n",
    "mask_LFI = hp.read_map(\"Mask/LFI_Mask_PointSrc_2048.fits\")\n",
    "mask_HFI = hp.read_map(\"Mask/HFI_Mask_PointSrc_2048.fits\")\n",
    "\n",
    "print(\"map_T:\", map_T.size, \"nside=\", hp.get_nside(map_T))\n",
    "print(\"mask_LFI:\", mask_LFI.size, \"nside=\", hp.get_nside(mask_LFI))\n",
    "print(\"mask_HFI:\", mask_HFI.size, \"nside=\", hp.get_nside(mask_HFI))\n",
    "\n",
    "# Combine masks: intersection (product) keeps only pixels unmasked in both\n",
    "mask_combined = mask_LFI * mask_HFI\n",
    "\n",
    "# Apply mask in pixel space\n",
    "masked_map = mask_combined * map_T\n",
    "\n",
    "# Save the masked map\n",
    "hp.write_map(\"masked_map.fits\", masked_map, overwrite=True)\n",
    "\n",
    "\n",
    "# visualize_MW_Pix_map(masked_map, title=\"Masked CMB Map\", coord=[\"G\"], unit=\"K\", is_MW_alm=False)\n",
    "# Optional: visualise\n",
    "hp.mollview(masked_map, title=\"CMB Map with Planck Point-Source Mask\")\n",
    "\n",
    "\n",
    "\n",
    "# Step 3 with mask applied\n",
    "\n",
    "def pseudo_cl_from_masked_map(T_map, mask, lmax=None, fsky_correct=True, fsky=0.978, alm=False):\n",
    "    \"\"\"\n",
    "    Step 3 — pseudo-spectrum from a masked map, following SILC (Rogers+16).\n",
    "    \n",
    "    Inputs\n",
    "    -------\n",
    "    T_map : 1D array (len = 12*Nside^2), HEALPix CMB temperature map [K or µK]\n",
    "    mask  : 1D array, same shape; 1 inside, 0 outside (can be float weights)\n",
    "    lmax  : int, maximum multipole (default = 3*Nside-1)\n",
    "    fsky_correct : bool, divide pseudo-Cl by f_sky (small-mask full-sky approximation)\n",
    "    return_alm   : bool, also return a_lm of the masked map\n",
    "\n",
    "    Returns\n",
    "    -------\n",
    "    ell        : array of multipoles (0..lmax)\n",
    "    Cl_tilde   : pseudo-spectrum of the masked map, \\tilde C_ell\n",
    "    Cl_fullest : Cl_tilde / f_sky  (if fsky_correct), else equals Cl_tilde\n",
    "    alm        : (optional) a_lm of the masked map\n",
    "    \"\"\"\n",
    "    # Ensure same NSIDE and float64 for stability\n",
    "    T_map = np.asarray(T_map, dtype=np.float64)\n",
    "    mask  = np.asarray(mask,  dtype=np.float64)\n",
    "    nside = hp.get_nside(T_map)\n",
    "    if hp.get_nside(mask) != nside:\n",
    "        raise ValueError(\"T_map and mask must have same NSIDE\")\n",
    "    if lmax is None:\n",
    "        lmax = 3*nside - 1\n",
    "\n",
    "    # Masked map M*T\n",
    "    MT = mask * T_map\n",
    "\n",
    "    ell = np.arange(lmax + 1)\n",
    "    \n",
    "    Cl_tilde = hp.anafast(MT, lmax=lmax)\n",
    "\n",
    "    # Small-mask full-sky approximation used in the paper: divide by f_sky\n",
    "    if fsky_correct:\n",
    "        Cl_fullest = Cl_tilde / fsky if fsky > 0 else Cl_tilde\n",
    "    else:\n",
    "        Cl_fullest = Cl_tilde\n",
    "\n",
    "    return ell, Cl_tilde, Cl_fullest, alm\n",
    "\n",
    "\n",
    "ell, Cl_tilde, Cl_fullest, alm = pseudo_cl_from_masked_map(map_T, mask_combined, lmax=lmax, alm=False)\n",
    "'''"
   ]
  },
  {
   "cell_type": "code",
   "execution_count": 11,
   "id": "e951d745",
   "metadata": {},
   "outputs": [],
   "source": [
    "# Load your estimated CMB map (HEALPix)\n",
    "map_T = hp.read_map(\"ILC/CMB_estimated_R0000.fits\")  # Your Step 1 output\n",
    "\n",
    "\n",
    "def cl_from_fullsky_map(\n",
    "    T_map,\n",
    "    lmax=None,\n",
    "    remove_monopole=True,\n",
    "    remove_dipole=True,\n",
    "    return_alm=False,\n",
    "):\n",
    "    \"\"\"\n",
    "    Compute the full-sky TT spectrum (no mask).\n",
    "\n",
    "    Parameters\n",
    "    ----------\n",
    "    T_map : 1D array (len = 12*Nside^2)\n",
    "        HEALPix temperature map in K or µK (thermodynamic units).\n",
    "    lmax : int or None\n",
    "        Max multipole. Default: 3*Nside - 1.\n",
    "    remove_monopole : bool\n",
    "        Subtract full-sky mean (ℓ=0).\n",
    "    remove_dipole : bool\n",
    "        Fit & subtract full-sky dipole (ℓ=1).\n",
    "    return_alm : bool\n",
    "        If True, also return a_lm of the (optionally de-biased) map.\n",
    "\n",
    "    Returns\n",
    "    -------\n",
    "    ell : ndarray, shape (lmax+1,)\n",
    "        Multipoles 0..lmax.\n",
    "    Cl  : ndarray, shape (lmax+1,)\n",
    "        Full-sky TT spectrum C_ell.\n",
    "    alm : ndarray (optional)\n",
    "        HEALPix a_lm up to lmax, if return_alm=True, else None.\n",
    "    \"\"\"\n",
    "    T_map = np.asarray(T_map, dtype=np.float64)\n",
    "    nside = hp.get_nside(T_map)\n",
    "    if lmax is None:\n",
    "        lmax = 3 * nside - 1\n",
    "\n",
    "    # Work on a copy so the input isn't modified\n",
    "    m = T_map.copy()\n",
    "\n",
    "    # Remove monopole/dipole on the *full sky* (no mask involved)\n",
    "    if remove_monopole:\n",
    "        m = hp.remove_monopole(m, fitval=False)  # subtract mean\n",
    "    if remove_dipole:\n",
    "        m = hp.remove_dipole(m, fitval=False)    # subtract best-fit dipole\n",
    "    \n",
    "\n",
    "    # Full-sky spectrum \n",
    "    Cl = hp.anafast(m, lmax=lmax)\n",
    "\n",
    "    # Optional a_lm of the same (de-biased) map\n",
    "    alm = hp.map2alm(m, lmax=lmax) if return_alm else None\n",
    "\n",
    "    ell = np.arange(lmax + 1)\n",
    "    return ell, Cl, alm\n",
    "\n",
    "ell, Cl, alm = cl_from_fullsky_map(map_T, lmax=lmax, remove_monopole=True, remove_dipole=True, return_alm=False)\n"
   ]
  },
  {
   "cell_type": "markdown",
   "id": "0ab7ba16",
   "metadata": {},
   "source": [
    "## Step 3: common resolution (beam + pixel window deconvolution); calculate $D_l$"
   ]
  },
  {
   "cell_type": "code",
   "execution_count": 12,
   "id": "e778e436",
   "metadata": {},
   "outputs": [],
   "source": [
    "def gaussian_bl(ell, fwhm_arcmin):\n",
    "    \"\"\"Gaussian B_ell for a beam with given FWHM (arcmin).\"\"\"\n",
    "    fwhm_rad = (fwhm_arcmin/60.0) * np.pi/180.0\n",
    "    sigma2 = fwhm_rad**2 / (8.0*np.log(2.0))\n",
    "    return np.exp(-0.5 * ell * (ell + 1.0) * sigma2)\n",
    "\n",
    "# infer NSIDE from your map, keep lmax from earlier\n",
    "nside = hp.get_nside(map_T)\n",
    "\n",
    "# 5' homogenized beam (per the paper §3.3)\n",
    "Bl = gaussian_bl(ell, fwhm_arcmin=5.0)\n",
    "\n",
    "# HEALPix pixel window for your NSIDE\n",
    "Pl = hp.pixwin(nside, lmax=lmax)  # returns array length lmax+1\n",
    "\n",
    "# Deconvolve to get the sky spectrum (guard zeros)\n",
    "denom = (Bl**2) * (Pl**2)\n",
    "denom[denom == 0] = np.nan\n",
    "\n",
    "Cl_sky = Cl / denom\n",
    "\n",
    "# (Usually we plot D_ell)\n",
    "Dl = ell * (ell + 1.0) * Cl_sky / (2.0*np.pi)"
   ]
  },
  {
   "cell_type": "markdown",
   "id": "1bfcd4f8",
   "metadata": {},
   "source": [
    "## Plot"
   ]
  },
  {
   "cell_type": "code",
   "execution_count": 13,
   "id": "c82949e9",
   "metadata": {},
   "outputs": [
    {
     "data": {
      "image/png": "[encoded data removed]",
      "text/plain": [
       "<Figure size 900x380 with 1 Axes>"
      ]
     },
     "metadata": {},
     "output_type": "display_data"
    }
   ],
   "source": [
    "import matplotlib.pyplot as plt\n",
    "\n",
    "fig, ax = plt.subplots(figsize=(9, 3.8))\n",
    "xlim=(2, 100)\n",
    "ylim=(0, 6000)\n",
    "ax.plot(ell, Dl*1.0e12, color='red')\n",
    "ax.set_title(\"TT $D_\\\\ell$ (point-source masked, $f_{\\\\rm sky}=0.978$, 5′ homogenized)\")\n",
    "ax.set_xlim(*xlim)\n",
    "ax.set_ylim(*ylim)\n",
    "ax.set_xlabel(r\"Multipole $\\ell$\", fontsize=12)\n",
    "ax.set_ylabel(r\"$D_\\ell\\;[\\,\\mu{\\rm K}^2\\,]$\", fontsize=12)\n",
    "plt.tight_layout()\n",
    "plt.show()\n"
   ]
  },
  {
   "cell_type": "code",
   "execution_count": null,
   "id": "83e725dd",
   "metadata": {},
   "outputs": [],
   "source": []
  }
 ],
 "metadata": {
  "kernelspec": {
   "display_name": "venv",
   "language": "python",
   "name": "python3"
  },
  "language_info": {
   "codemirror_mode": {
    "name": "ipython",
    "version": 3
   },
   "file_extension": ".py",
   "mimetype": "text/x-python",
   "name": "python",
   "nbconvert_exporter": "python",
   "pygments_lexer": "ipython3",
   "version": "3.12.3"
  }
 },
 "nbformat": 4,
 "nbformat_minor": 5
}
